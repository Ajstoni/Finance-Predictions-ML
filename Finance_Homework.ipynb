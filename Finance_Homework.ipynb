{
  "nbformat": 4,
  "nbformat_minor": 0,
  "metadata": {
    "colab": {
      "name": "Finance-Homework.ipynb",
      "provenance": [],
      "collapsed_sections": []
    },
    "kernelspec": {
      "name": "python3",
      "display_name": "Python 3"
    },
    "accelerator": "GPU"
  },
  "cells": [
    {
      "cell_type": "markdown",
      "metadata": {
        "id": "FwfVCXhCiHQc",
        "colab_type": "text"
      },
      "source": [
        "# ***Dependencies and Models***"
      ]
    },
    {
      "cell_type": "code",
      "metadata": {
        "id": "MpIq3euyaTFW",
        "colab_type": "code",
        "colab": {
          "base_uri": "https://localhost:8080/",
          "height": 241
        },
        "outputId": "89d45ac1-9059-4d40-bb7f-6a95f08b126c"
      },
      "source": [
        "# DEPENDENCIES\n",
        "import numpy as np\n",
        "import pandas as pd\n",
        "import matplotlib.pyplot as plt\n",
        "\n",
        "\n",
        "# Data import\n",
        "from pandas_datareader import data as pdr\n",
        "import fix_yahoo_finance as yf\n",
        "\n",
        "!pip install yfinance --upgrade --no-cache-dir\n",
        "yf.pdr_override()\n",
        "\n",
        "# for mounting to drive\n",
        "from google.colab import drive\n",
        "\n",
        "\n",
        "# Modeling\n",
        "from sklearn.linear_model import LinearRegression, Ridge, Lasso\n",
        "from sklearn import preprocessing\n",
        "from sklearn.model_selection import train_test_split\n",
        "from sklearn.ensemble import GradientBoostingRegressor\n",
        "\n",
        "# Modeling metrics\n",
        "from sklearn import metrics"
      ],
      "execution_count": 2,
      "outputs": [
        {
          "output_type": "stream",
          "text": [
            "Requirement already up-to-date: yfinance in /usr/local/lib/python3.6/dist-packages (0.1.45)\n",
            "Requirement already satisfied, skipping upgrade: multitasking>=0.0.7 in /usr/local/lib/python3.6/dist-packages (from yfinance) (0.0.9)\n",
            "Requirement already satisfied, skipping upgrade: requests>=2.20 in /usr/local/lib/python3.6/dist-packages (from yfinance) (2.21.0)\n",
            "Requirement already satisfied, skipping upgrade: numpy>=1.15 in /usr/local/lib/python3.6/dist-packages (from yfinance) (1.16.5)\n",
            "Requirement already satisfied, skipping upgrade: pandas>=0.24 in /usr/local/lib/python3.6/dist-packages (from yfinance) (0.24.2)\n",
            "Requirement already satisfied, skipping upgrade: idna<2.9,>=2.5 in /usr/local/lib/python3.6/dist-packages (from requests>=2.20->yfinance) (2.8)\n",
            "Requirement already satisfied, skipping upgrade: urllib3<1.25,>=1.21.1 in /usr/local/lib/python3.6/dist-packages (from requests>=2.20->yfinance) (1.24.3)\n",
            "Requirement already satisfied, skipping upgrade: certifi>=2017.4.17 in /usr/local/lib/python3.6/dist-packages (from requests>=2.20->yfinance) (2019.6.16)\n",
            "Requirement already satisfied, skipping upgrade: chardet<3.1.0,>=3.0.2 in /usr/local/lib/python3.6/dist-packages (from requests>=2.20->yfinance) (3.0.4)\n",
            "Requirement already satisfied, skipping upgrade: pytz>=2011k in /usr/local/lib/python3.6/dist-packages (from pandas>=0.24->yfinance) (2018.9)\n",
            "Requirement already satisfied, skipping upgrade: python-dateutil>=2.5.0 in /usr/local/lib/python3.6/dist-packages (from pandas>=0.24->yfinance) (2.5.3)\n",
            "Requirement already satisfied, skipping upgrade: six>=1.5 in /usr/local/lib/python3.6/dist-packages (from python-dateutil>=2.5.0->pandas>=0.24->yfinance) (1.12.0)\n"
          ],
          "name": "stdout"
        }
      ]
    },
    {
      "cell_type": "code",
      "metadata": {
        "id": "DPaDi3yhhNJI",
        "colab_type": "code",
        "colab": {
          "base_uri": "https://localhost:8080/",
          "height": 139
        },
        "outputId": "84f8f8ba-d6ec-43ac-9d03-e8d0e2563558"
      },
      "source": [
        "# Mount folder to save and retrieve the outputs\n",
        "drive.mount('/drive', force_remount=True)\n",
        "%cd \"/drive/My Drive/siraj homework\""
      ],
      "execution_count": 6,
      "outputs": [
        {
          "output_type": "stream",
          "text": [
            "Go to this URL in a browser: https://accounts.google.com/o/oauth2/auth?client_id=947318989803-6bn6qk8qdgf4n4g3pfee6491hc0brc4i.apps.googleusercontent.com&redirect_uri=urn%3Aietf%3Awg%3Aoauth%3A2.0%3Aoob&scope=email%20https%3A%2F%2Fwww.googleapis.com%2Fauth%2Fdocs.test%20https%3A%2F%2Fwww.googleapis.com%2Fauth%2Fdrive%20https%3A%2F%2Fwww.googleapis.com%2Fauth%2Fdrive.photos.readonly%20https%3A%2F%2Fwww.googleapis.com%2Fauth%2Fpeopleapi.readonly&response_type=code\n",
            "\n",
            "Enter your authorization code:\n",
            "··········\n",
            "Mounted at /drive\n",
            "/drive/My Drive/siraj homework\n"
          ],
          "name": "stdout"
        }
      ]
    },
    {
      "cell_type": "code",
      "metadata": {
        "id": "gvJliGi6iYjn",
        "colab_type": "code",
        "colab": {
          "base_uri": "https://localhost:8080/",
          "height": 54
        },
        "outputId": "2b458f80-b0dd-40be-fdf0-e0809d2be1d4"
      },
      "source": [
        "df_full = pdr.get_data_yahoo(\"BRK-B\", start=\"2018-01-01\").reset_index()\n",
        "df_full.to_csv('output/BRK-B.csv',index=False)"
      ],
      "execution_count": 9,
      "outputs": [
        {
          "output_type": "stream",
          "text": [
            "[*********************100%***********************]  1 of 1 downloaded\n"
          ],
          "name": "stdout"
        }
      ]
    },
    {
      "cell_type": "code",
      "metadata": {
        "id": "MssP33O6jck-",
        "colab_type": "code",
        "colab": {
          "base_uri": "https://localhost:8080/",
          "height": 34
        },
        "outputId": "5626f2dc-6e83-43fc-c462-b8aa75ea1bcd"
      },
      "source": [
        "df_full.shape"
      ],
      "execution_count": 10,
      "outputs": [
        {
          "output_type": "execute_result",
          "data": {
            "text/plain": [
              "(433, 7)"
            ]
          },
          "metadata": {
            "tags": []
          },
          "execution_count": 10
        }
      ]
    },
    {
      "cell_type": "code",
      "metadata": {
        "id": "DmoU3osCjgib",
        "colab_type": "code",
        "colab": {
          "base_uri": "https://localhost:8080/",
          "height": 326
        },
        "outputId": "a9bea261-7a92-4c44-8987-c5694798834c"
      },
      "source": [
        "df_full.head()"
      ],
      "execution_count": 11,
      "outputs": [
        {
          "output_type": "execute_result",
          "data": {
            "text/html": [
              "<div>\n",
              "<style scoped>\n",
              "    .dataframe tbody tr th:only-of-type {\n",
              "        vertical-align: middle;\n",
              "    }\n",
              "\n",
              "    .dataframe tbody tr th {\n",
              "        vertical-align: top;\n",
              "    }\n",
              "\n",
              "    .dataframe thead th {\n",
              "        text-align: right;\n",
              "    }\n",
              "</style>\n",
              "<table border=\"1\" class=\"dataframe\">\n",
              "  <thead>\n",
              "    <tr style=\"text-align: right;\">\n",
              "      <th></th>\n",
              "      <th>Date</th>\n",
              "      <th>Open</th>\n",
              "      <th>High</th>\n",
              "      <th>Low</th>\n",
              "      <th>Close</th>\n",
              "      <th>Adj Close</th>\n",
              "      <th>Volume</th>\n",
              "    </tr>\n",
              "  </thead>\n",
              "  <tbody>\n",
              "    <tr>\n",
              "      <th>0</th>\n",
              "      <td>2018-01-02</td>\n",
              "      <td>198.869995</td>\n",
              "      <td>198.869995</td>\n",
              "      <td>195.960007</td>\n",
              "      <td>197.220001</td>\n",
              "      <td>197.220001</td>\n",
              "      <td>4113000</td>\n",
              "    </tr>\n",
              "    <tr>\n",
              "      <th>1</th>\n",
              "      <td>2018-01-03</td>\n",
              "      <td>197.000000</td>\n",
              "      <td>200.000000</td>\n",
              "      <td>197.000000</td>\n",
              "      <td>199.789993</td>\n",
              "      <td>199.789993</td>\n",
              "      <td>3526700</td>\n",
              "    </tr>\n",
              "    <tr>\n",
              "      <th>2</th>\n",
              "      <td>2018-01-04</td>\n",
              "      <td>200.899994</td>\n",
              "      <td>202.130005</td>\n",
              "      <td>200.009995</td>\n",
              "      <td>200.690002</td>\n",
              "      <td>200.690002</td>\n",
              "      <td>3900000</td>\n",
              "    </tr>\n",
              "    <tr>\n",
              "      <th>3</th>\n",
              "      <td>2018-01-05</td>\n",
              "      <td>201.000000</td>\n",
              "      <td>201.669998</td>\n",
              "      <td>199.309998</td>\n",
              "      <td>201.419998</td>\n",
              "      <td>201.419998</td>\n",
              "      <td>4207600</td>\n",
              "    </tr>\n",
              "    <tr>\n",
              "      <th>4</th>\n",
              "      <td>2018-01-08</td>\n",
              "      <td>201.149994</td>\n",
              "      <td>203.070007</td>\n",
              "      <td>199.800003</td>\n",
              "      <td>202.740005</td>\n",
              "      <td>202.740005</td>\n",
              "      <td>3887900</td>\n",
              "    </tr>\n",
              "  </tbody>\n",
              "</table>\n",
              "</div>"
            ],
            "text/plain": [
              "        Date        Open        High  ...       Close   Adj Close   Volume\n",
              "0 2018-01-02  198.869995  198.869995  ...  197.220001  197.220001  4113000\n",
              "1 2018-01-03  197.000000  200.000000  ...  199.789993  199.789993  3526700\n",
              "2 2018-01-04  200.899994  202.130005  ...  200.690002  200.690002  3900000\n",
              "3 2018-01-05  201.000000  201.669998  ...  201.419998  201.419998  4207600\n",
              "4 2018-01-08  201.149994  203.070007  ...  202.740005  202.740005  3887900\n",
              "\n",
              "[5 rows x 7 columns]"
            ]
          },
          "metadata": {
            "tags": []
          },
          "execution_count": 11
        }
      ]
    },
    {
      "cell_type": "code",
      "metadata": {
        "id": "C7qbmDfejlh8",
        "colab_type": "code",
        "colab": {
          "base_uri": "https://localhost:8080/",
          "height": 334
        },
        "outputId": "9d804fcf-a742-4192-818c-f4454d211ce0"
      },
      "source": [
        "df_full.describe()"
      ],
      "execution_count": 12,
      "outputs": [
        {
          "output_type": "execute_result",
          "data": {
            "text/html": [
              "<div>\n",
              "<style scoped>\n",
              "    .dataframe tbody tr th:only-of-type {\n",
              "        vertical-align: middle;\n",
              "    }\n",
              "\n",
              "    .dataframe tbody tr th {\n",
              "        vertical-align: top;\n",
              "    }\n",
              "\n",
              "    .dataframe thead th {\n",
              "        text-align: right;\n",
              "    }\n",
              "</style>\n",
              "<table border=\"1\" class=\"dataframe\">\n",
              "  <thead>\n",
              "    <tr style=\"text-align: right;\">\n",
              "      <th></th>\n",
              "      <th>Open</th>\n",
              "      <th>High</th>\n",
              "      <th>Low</th>\n",
              "      <th>Close</th>\n",
              "      <th>Adj Close</th>\n",
              "      <th>Volume</th>\n",
              "    </tr>\n",
              "  </thead>\n",
              "  <tbody>\n",
              "    <tr>\n",
              "      <th>count</th>\n",
              "      <td>433.000000</td>\n",
              "      <td>433.000000</td>\n",
              "      <td>433.000000</td>\n",
              "      <td>433.000000</td>\n",
              "      <td>433.000000</td>\n",
              "      <td>4.330000e+02</td>\n",
              "    </tr>\n",
              "    <tr>\n",
              "      <th>mean</th>\n",
              "      <td>204.271801</td>\n",
              "      <td>205.630416</td>\n",
              "      <td>202.575081</td>\n",
              "      <td>204.101525</td>\n",
              "      <td>204.101525</td>\n",
              "      <td>4.280819e+06</td>\n",
              "    </tr>\n",
              "    <tr>\n",
              "      <th>std</th>\n",
              "      <td>7.801046</td>\n",
              "      <td>7.774123</td>\n",
              "      <td>7.821464</td>\n",
              "      <td>7.834384</td>\n",
              "      <td>7.834384</td>\n",
              "      <td>1.576658e+06</td>\n",
              "    </tr>\n",
              "    <tr>\n",
              "      <th>min</th>\n",
              "      <td>185.429993</td>\n",
              "      <td>187.619995</td>\n",
              "      <td>184.750000</td>\n",
              "      <td>184.910004</td>\n",
              "      <td>184.910004</td>\n",
              "      <td>1.929100e+06</td>\n",
              "    </tr>\n",
              "    <tr>\n",
              "      <th>25%</th>\n",
              "      <td>198.869995</td>\n",
              "      <td>200.289993</td>\n",
              "      <td>197.059998</td>\n",
              "      <td>198.460007</td>\n",
              "      <td>198.460007</td>\n",
              "      <td>3.269900e+06</td>\n",
              "    </tr>\n",
              "    <tr>\n",
              "      <th>50%</th>\n",
              "      <td>203.990005</td>\n",
              "      <td>205.220001</td>\n",
              "      <td>202.350006</td>\n",
              "      <td>203.669998</td>\n",
              "      <td>203.669998</td>\n",
              "      <td>3.964600e+06</td>\n",
              "    </tr>\n",
              "    <tr>\n",
              "      <th>75%</th>\n",
              "      <td>209.500000</td>\n",
              "      <td>210.929993</td>\n",
              "      <td>207.800003</td>\n",
              "      <td>209.429993</td>\n",
              "      <td>209.429993</td>\n",
              "      <td>4.776200e+06</td>\n",
              "    </tr>\n",
              "    <tr>\n",
              "      <th>max</th>\n",
              "      <td>224.000000</td>\n",
              "      <td>224.070007</td>\n",
              "      <td>221.300003</td>\n",
              "      <td>223.759995</td>\n",
              "      <td>223.759995</td>\n",
              "      <td>1.490770e+07</td>\n",
              "    </tr>\n",
              "  </tbody>\n",
              "</table>\n",
              "</div>"
            ],
            "text/plain": [
              "             Open        High         Low       Close   Adj Close        Volume\n",
              "count  433.000000  433.000000  433.000000  433.000000  433.000000  4.330000e+02\n",
              "mean   204.271801  205.630416  202.575081  204.101525  204.101525  4.280819e+06\n",
              "std      7.801046    7.774123    7.821464    7.834384    7.834384  1.576658e+06\n",
              "min    185.429993  187.619995  184.750000  184.910004  184.910004  1.929100e+06\n",
              "25%    198.869995  200.289993  197.059998  198.460007  198.460007  3.269900e+06\n",
              "50%    203.990005  205.220001  202.350006  203.669998  203.669998  3.964600e+06\n",
              "75%    209.500000  210.929993  207.800003  209.429993  209.429993  4.776200e+06\n",
              "max    224.000000  224.070007  221.300003  223.759995  223.759995  1.490770e+07"
            ]
          },
          "metadata": {
            "tags": []
          },
          "execution_count": 12
        }
      ]
    },
    {
      "cell_type": "code",
      "metadata": {
        "id": "vSwhhBs2jr7Y",
        "colab_type": "code",
        "colab": {
          "base_uri": "https://localhost:8080/",
          "height": 286
        },
        "outputId": "720f69eb-ddd0-4c6d-8c28-cea76981482c"
      },
      "source": [
        "df_full[\"Adj Close\"].plot()"
      ],
      "execution_count": 14,
      "outputs": [
        {
          "output_type": "execute_result",
          "data": {
            "text/plain": [
              "<matplotlib.axes._subplots.AxesSubplot at 0x7fc32beb3a58>"
            ]
          },
          "metadata": {
            "tags": []
          },
          "execution_count": 14
        },
        {
          "output_type": "display_data",
          "data": {
            "image/png": "[encoded data removed]",
            "text/plain": [
              "<Figure size 432x288 with 1 Axes>"
            ]
          },
          "metadata": {
            "tags": []
          }
        }
      ]
    },
    {
      "cell_type": "code",
      "metadata": {
        "id": "MUCuhirej91F",
        "colab_type": "code",
        "colab": {}
      },
      "source": [
        ""
      ],
      "execution_count": 0,
      "outputs": []
    },
    {
      "cell_type": "markdown",
      "metadata": {
        "id": "ZnFuuUX1kDda",
        "colab_type": "text"
      },
      "source": [
        "# **Data Prepocessing**"
      ]
    },
    {
      "cell_type": "code",
      "metadata": {
        "id": "4psboU6jkJKc",
        "colab_type": "code",
        "colab": {}
      },
      "source": [
        "df_full.set_index(\"Date\", inplace=True)"
      ],
      "execution_count": 0,
      "outputs": []
    },
    {
      "cell_type": "code",
      "metadata": {
        "id": "n8B-mRWokg7T",
        "colab_type": "code",
        "colab": {
          "base_uri": "https://localhost:8080/",
          "height": 337
        },
        "outputId": "245a6e84-a2ec-45b9-bd7d-485bc0705880"
      },
      "source": [
        "df_full.head()"
      ],
      "execution_count": 16,
      "outputs": [
        {
          "output_type": "execute_result",
          "data": {
            "text/html": [
              "<div>\n",
              "<style scoped>\n",
              "    .dataframe tbody tr th:only-of-type {\n",
              "        vertical-align: middle;\n",
              "    }\n",
              "\n",
              "    .dataframe tbody tr th {\n",
              "        vertical-align: top;\n",
              "    }\n",
              "\n",
              "    .dataframe thead th {\n",
              "        text-align: right;\n",
              "    }\n",
              "</style>\n",
              "<table border=\"1\" class=\"dataframe\">\n",
              "  <thead>\n",
              "    <tr style=\"text-align: right;\">\n",
              "      <th></th>\n",
              "      <th>Open</th>\n",
              "      <th>High</th>\n",
              "      <th>Low</th>\n",
              "      <th>Close</th>\n",
              "      <th>Adj Close</th>\n",
              "      <th>Volume</th>\n",
              "    </tr>\n",
              "    <tr>\n",
              "      <th>Date</th>\n",
              "      <th></th>\n",
              "      <th></th>\n",
              "      <th></th>\n",
              "      <th></th>\n",
              "      <th></th>\n",
              "      <th></th>\n",
              "    </tr>\n",
              "  </thead>\n",
              "  <tbody>\n",
              "    <tr>\n",
              "      <th>2018-01-02</th>\n",
              "      <td>198.869995</td>\n",
              "      <td>198.869995</td>\n",
              "      <td>195.960007</td>\n",
              "      <td>197.220001</td>\n",
              "      <td>197.220001</td>\n",
              "      <td>4113000</td>\n",
              "    </tr>\n",
              "    <tr>\n",
              "      <th>2018-01-03</th>\n",
              "      <td>197.000000</td>\n",
              "      <td>200.000000</td>\n",
              "      <td>197.000000</td>\n",
              "      <td>199.789993</td>\n",
              "      <td>199.789993</td>\n",
              "      <td>3526700</td>\n",
              "    </tr>\n",
              "    <tr>\n",
              "      <th>2018-01-04</th>\n",
              "      <td>200.899994</td>\n",
              "      <td>202.130005</td>\n",
              "      <td>200.009995</td>\n",
              "      <td>200.690002</td>\n",
              "      <td>200.690002</td>\n",
              "      <td>3900000</td>\n",
              "    </tr>\n",
              "    <tr>\n",
              "      <th>2018-01-05</th>\n",
              "      <td>201.000000</td>\n",
              "      <td>201.669998</td>\n",
              "      <td>199.309998</td>\n",
              "      <td>201.419998</td>\n",
              "      <td>201.419998</td>\n",
              "      <td>4207600</td>\n",
              "    </tr>\n",
              "    <tr>\n",
              "      <th>2018-01-08</th>\n",
              "      <td>201.149994</td>\n",
              "      <td>203.070007</td>\n",
              "      <td>199.800003</td>\n",
              "      <td>202.740005</td>\n",
              "      <td>202.740005</td>\n",
              "      <td>3887900</td>\n",
              "    </tr>\n",
              "  </tbody>\n",
              "</table>\n",
              "</div>"
            ],
            "text/plain": [
              "                  Open        High         Low       Close   Adj Close   Volume\n",
              "Date                                                                           \n",
              "2018-01-02  198.869995  198.869995  195.960007  197.220001  197.220001  4113000\n",
              "2018-01-03  197.000000  200.000000  197.000000  199.789993  199.789993  3526700\n",
              "2018-01-04  200.899994  202.130005  200.009995  200.690002  200.690002  3900000\n",
              "2018-01-05  201.000000  201.669998  199.309998  201.419998  201.419998  4207600\n",
              "2018-01-08  201.149994  203.070007  199.800003  202.740005  202.740005  3887900"
            ]
          },
          "metadata": {
            "tags": []
          },
          "execution_count": 16
        }
      ]
    },
    {
      "cell_type": "code",
      "metadata": {
        "id": "yfBJXAFGklAi",
        "colab_type": "code",
        "colab": {}
      },
      "source": [
        "window_size=32\n",
        "num_samples=len(df_full)-window_size\n",
        "\n",
        "# Get indices of access for the data\n",
        "indices=np.arange(num_samples).astype(np.int)[:,None]+np.arange(window_size+1).astype(np.int)\n",
        "\n",
        "data = df_full['Adj Close'].values[indices]\n",
        "x = data[:,:-1]\n",
        "y = data[:,-1]"
      ],
      "execution_count": 0,
      "outputs": []
    },
    {
      "cell_type": "code",
      "metadata": {
        "id": "y_f-hn4XmrAX",
        "colab_type": "code",
        "colab": {}
      },
      "source": [
        "# split data into testing and training\n",
        "\n",
        "split_fraction = 0.75\n",
        "ind_split=int(split_fraction*num_samples)"
      ],
      "execution_count": 0,
      "outputs": []
    },
    {
      "cell_type": "code",
      "metadata": {
        "id": "dq3ftelknMap",
        "colab_type": "code",
        "colab": {}
      },
      "source": [
        "x_train = x[:ind_split]\n",
        "y_train = y[:ind_split]\n",
        "x_test = x[ind_split:]\n",
        "y_test = y[ind_split:]"
      ],
      "execution_count": 0,
      "outputs": []
    },
    {
      "cell_type": "code",
      "metadata": {
        "id": "-DqawRJBni7d",
        "colab_type": "code",
        "colab": {
          "base_uri": "https://localhost:8080/",
          "height": 34
        },
        "outputId": "b5d16dc8-c86f-4420-a73e-be00f3f78ccf"
      },
      "source": [
        "x_train.shape"
      ],
      "execution_count": 30,
      "outputs": [
        {
          "output_type": "execute_result",
          "data": {
            "text/plain": [
              "(300, 32)"
            ]
          },
          "metadata": {
            "tags": []
          },
          "execution_count": 30
        }
      ]
    },
    {
      "cell_type": "markdown",
      "metadata": {
        "id": "KbwV9cS5n-gT",
        "colab_type": "text"
      },
      "source": [
        "# **Modeling**"
      ]
    },
    {
      "cell_type": "code",
      "metadata": {
        "id": "scIYrTkmoBCO",
        "colab_type": "code",
        "colab": {}
      },
      "source": [
        "#Help Functions\n",
        "def get_performance (model_pred):\n",
        "  #Function returns standard performance metrics\n",
        "  print('Mean Absolute Error:', metrics.mean_absolute_error(y_test, model_pred).round(4))  \n",
        "  print('Mean Squared Error:', metrics.mean_squared_error(y_test, model_pred).round(4))  \n",
        "  print('Root Mean Squared Error:', np.sqrt(metrics.mean_squared_error(y_test, model_pred)).round(4))\n",
        "  \n",
        "  \n",
        "  \n",
        "def get_plot (model_pred):\n",
        "  plt.scatter(model_pred, y_test, color=\"gray\")\n",
        "  plt.plot(y_test, y_test, color='red', linewidth=2)\n"
      ],
      "execution_count": 0,
      "outputs": []
    },
    {
      "cell_type": "markdown",
      "metadata": {
        "id": "72q_ZGOaq0cR",
        "colab_type": "text"
      },
      "source": [
        "# **Baseline**"
      ]
    },
    {
      "cell_type": "code",
      "metadata": {
        "id": "-CXrQUHwq4Bz",
        "colab_type": "code",
        "colab": {}
      },
      "source": [
        "y_pred_lag=np.roll(y_test,1)"
      ],
      "execution_count": 0,
      "outputs": []
    },
    {
      "cell_type": "code",
      "metadata": {
        "id": "u1riVQ6_q_0F",
        "colab_type": "code",
        "colab": {
          "base_uri": "https://localhost:8080/",
          "height": 68
        },
        "outputId": "f6fee448-180d-4aef-d06f-e9c73e4cd9c2"
      },
      "source": [
        "get_performance(y_pred_lag)"
      ],
      "execution_count": 37,
      "outputs": [
        {
          "output_type": "stream",
          "text": [
            "Mean Absolute Error: 1.6525\n",
            "Mean Squared Error: 4.5322\n",
            "Root Mean Squared Error: 2.1289\n"
          ],
          "name": "stdout"
        }
      ]
    },
    {
      "cell_type": "code",
      "metadata": {
        "id": "kPFroJH_rH5E",
        "colab_type": "code",
        "colab": {
          "base_uri": "https://localhost:8080/",
          "height": 269
        },
        "outputId": "d9dfcbe0-df97-4bb6-9958-914703475f30"
      },
      "source": [
        "get_plot(y_pred_lag)"
      ],
      "execution_count": 38,
      "outputs": [
        {
          "output_type": "display_data",
          "data": {
            "image/png": "[encoded data removed]",
            "text/plain": [
              "<Figure size 432x288 with 1 Axes>"
            ]
          },
          "metadata": {
            "tags": []
          }
        }
      ]
    },
    {
      "cell_type": "markdown",
      "metadata": {
        "id": "wuAYgD8xrQqq",
        "colab_type": "text"
      },
      "source": [
        "# **Linear Regression**"
      ]
    },
    {
      "cell_type": "code",
      "metadata": {
        "id": "5eofEOZOrTLp",
        "colab_type": "code",
        "colab": {
          "base_uri": "https://localhost:8080/",
          "height": 54
        },
        "outputId": "ed21c071-2bd0-4407-f6d7-a7238695b494"
      },
      "source": [
        "model_lr=LinearRegression()\n",
        "model_lr.fit(x_train, y_train)"
      ],
      "execution_count": 39,
      "outputs": [
        {
          "output_type": "execute_result",
          "data": {
            "text/plain": [
              "LinearRegression(copy_X=True, fit_intercept=True, n_jobs=None, normalize=False)"
            ]
          },
          "metadata": {
            "tags": []
          },
          "execution_count": 39
        }
      ]
    },
    {
      "cell_type": "code",
      "metadata": {
        "id": "EPOJu1dQr76T",
        "colab_type": "code",
        "colab": {}
      },
      "source": [
        "y_pred_lr=model_lr.predict(x_test)"
      ],
      "execution_count": 0,
      "outputs": []
    },
    {
      "cell_type": "code",
      "metadata": {
        "id": "swJh20x1sGr6",
        "colab_type": "code",
        "colab": {
          "base_uri": "https://localhost:8080/",
          "height": 68
        },
        "outputId": "9eee1f93-81a6-4e53-e23e-d108b86b8fd5"
      },
      "source": [
        "get_performance(y_pred_lr)"
      ],
      "execution_count": 41,
      "outputs": [
        {
          "output_type": "stream",
          "text": [
            "Mean Absolute Error: 1.5614\n",
            "Mean Squared Error: 3.8584\n",
            "Root Mean Squared Error: 1.9643\n"
          ],
          "name": "stdout"
        }
      ]
    },
    {
      "cell_type": "code",
      "metadata": {
        "id": "TAe_FhA3sN8l",
        "colab_type": "code",
        "colab": {
          "base_uri": "https://localhost:8080/",
          "height": 269
        },
        "outputId": "c2ec2f24-7b44-4d7b-e3e5-4b83eb686821"
      },
      "source": [
        "get_plot(y_pred_lr)"
      ],
      "execution_count": 43,
      "outputs": [
        {
          "output_type": "display_data",
          "data": {
            "image/png": "[encoded data removed]",
            "text/plain": [
              "<Figure size 432x288 with 1 Axes>"
            ]
          },
          "metadata": {
            "tags": []
          }
        }
      ]
    },
    {
      "cell_type": "markdown",
      "metadata": {
        "id": "lrGLl3VxsrSu",
        "colab_type": "text"
      },
      "source": [
        "# **Method #1 - Ridge Regression**"
      ]
    },
    {
      "cell_type": "code",
      "metadata": {
        "id": "mdHdq7_ssu9X",
        "colab_type": "code",
        "colab": {}
      },
      "source": [
        "model_ridge = Ridge()\n",
        "model_ridge.fit(x_train, y_train)\n",
        "\n",
        "#gen predictions\n",
        "y_pred_ridge=model_ridge.predict(x_test)"
      ],
      "execution_count": 0,
      "outputs": []
    },
    {
      "cell_type": "code",
      "metadata": {
        "id": "V2o9lCMjtFwR",
        "colab_type": "code",
        "colab": {
          "base_uri": "https://localhost:8080/",
          "height": 68
        },
        "outputId": "b45043eb-31a1-488f-9aba-58abde5aaaa8"
      },
      "source": [
        "get_performance(y_pred_ridge)"
      ],
      "execution_count": 45,
      "outputs": [
        {
          "output_type": "stream",
          "text": [
            "Mean Absolute Error: 1.5612\n",
            "Mean Squared Error: 3.8576\n",
            "Root Mean Squared Error: 1.9641\n"
          ],
          "name": "stdout"
        }
      ]
    },
    {
      "cell_type": "code",
      "metadata": {
        "id": "WlCEhGR2tLRX",
        "colab_type": "code",
        "colab": {
          "base_uri": "https://localhost:8080/",
          "height": 269
        },
        "outputId": "bf6bace6-e974-47e1-a31b-7cec986d5d49"
      },
      "source": [
        "get_plot(y_pred_ridge)"
      ],
      "execution_count": 46,
      "outputs": [
        {
          "output_type": "display_data",
          "data": {
            "image/png": "[encoded data removed]",
            "text/plain": [
              "<Figure size 432x288 with 1 Axes>"
            ]
          },
          "metadata": {
            "tags": []
          }
        }
      ]
    },
    {
      "cell_type": "markdown",
      "metadata": {
        "id": "Np95oHIwtWXS",
        "colab_type": "text"
      },
      "source": [
        "# Method 2 - Gradient Boosting **Trees**"
      ]
    },
    {
      "cell_type": "code",
      "metadata": {
        "id": "FfDOcOBetthS",
        "colab_type": "code",
        "colab": {}
      },
      "source": [
        "# Gradient Boosting Trees\n",
        "model_gb = GradientBoostingRegressor()\n",
        "model_gb.fit(x_train, y_train)\n",
        "\n",
        "# Infer\n",
        "y_pred_gb = model_gb.predict(x_test)"
      ],
      "execution_count": 0,
      "outputs": []
    },
    {
      "cell_type": "code",
      "metadata": {
        "id": "e6yCe8PLuBSH",
        "colab_type": "code",
        "colab": {
          "base_uri": "https://localhost:8080/",
          "height": 68
        },
        "outputId": "7a580c1a-099f-46df-8b03-a7656ee4717c"
      },
      "source": [
        "get_performance(y_pred_gb)"
      ],
      "execution_count": 48,
      "outputs": [
        {
          "output_type": "stream",
          "text": [
            "Mean Absolute Error: 1.6586\n",
            "Mean Squared Error: 4.4792\n",
            "Root Mean Squared Error: 2.1164\n"
          ],
          "name": "stdout"
        }
      ]
    },
    {
      "cell_type": "code",
      "metadata": {
        "id": "dMvQK1xVuGt_",
        "colab_type": "code",
        "colab": {
          "base_uri": "https://localhost:8080/",
          "height": 269
        },
        "outputId": "af3c5916-f420-4ddf-9547-5426ddbfb628"
      },
      "source": [
        "get_plot(y_pred_gb)"
      ],
      "execution_count": 49,
      "outputs": [
        {
          "output_type": "display_data",
          "data": {
            "image/png": "[encoded data removed]",
            "text/plain": [
              "<Figure size 432x288 with 1 Axes>"
            ]
          },
          "metadata": {
            "tags": []
          }
        }
      ]
    },
    {
      "cell_type": "markdown",
      "metadata": {
        "id": "I8EVzcTTuP8L",
        "colab_type": "text"
      },
      "source": [
        "# **Method 3 - Lasso**"
      ]
    },
    {
      "cell_type": "code",
      "metadata": {
        "id": "hCdV6pQgvaBx",
        "colab_type": "code",
        "colab": {}
      },
      "source": [
        "model_ls = Lasso()\n",
        "model_ls.fit(x_train, y_train)\n",
        "\n",
        "y_pred_ls = model_ls.predict(x_test)"
      ],
      "execution_count": 0,
      "outputs": []
    },
    {
      "cell_type": "code",
      "metadata": {
        "id": "TG7-4TPQv7ES",
        "colab_type": "code",
        "colab": {
          "base_uri": "https://localhost:8080/",
          "height": 68
        },
        "outputId": "fb155cd3-476b-4bf1-dba7-6dcb53483af3"
      },
      "source": [
        "get_performance(y_pred_ls)"
      ],
      "execution_count": 53,
      "outputs": [
        {
          "output_type": "stream",
          "text": [
            "Mean Absolute Error: 1.5681\n",
            "Mean Squared Error: 3.7407\n",
            "Root Mean Squared Error: 1.9341\n"
          ],
          "name": "stdout"
        }
      ]
    },
    {
      "cell_type": "code",
      "metadata": {
        "id": "sDD_9SMiwLUZ",
        "colab_type": "code",
        "colab": {
          "base_uri": "https://localhost:8080/",
          "height": 269
        },
        "outputId": "b70388ce-4cbd-49d3-f9b9-b71d9a74f338"
      },
      "source": [
        "get_plot(y_pred_ls)"
      ],
      "execution_count": 54,
      "outputs": [
        {
          "output_type": "display_data",
          "data": {
            "image/png": "[encoded data removed]",
            "text/plain": [
              "<Figure size 432x288 with 1 Axes>"
            ]
          },
          "metadata": {
            "tags": []
          }
        }
      ]
    },
    {
      "cell_type": "markdown",
      "metadata": {
        "id": "fuc422c1wXbX",
        "colab_type": "text"
      },
      "source": [
        "# **Comparison**"
      ]
    },
    {
      "cell_type": "code",
      "metadata": {
        "id": "PK7KDBxrwZdJ",
        "colab_type": "code",
        "colab": {}
      },
      "source": [
        "df_comp=pd.DataFrame({\"lag\":np.absolute(y_test-y_pred_lag),\n",
        "                      \"lr\":np.absolute(y_test-y_pred_lr),\n",
        "                      \"ridge\":np.absolute(y_test-y_pred_ridge),\n",
        "                      \"gb\":np.absolute(y_test-y_pred_gb),\n",
        "                      \"ls\":np.absolute(y_test-y_pred_ls)})"
      ],
      "execution_count": 0,
      "outputs": []
    },
    {
      "cell_type": "code",
      "metadata": {
        "id": "NSDdhy4kxSms",
        "colab_type": "code",
        "colab": {
          "base_uri": "https://localhost:8080/",
          "height": 527
        },
        "outputId": "dc6919fd-59d3-4a24-cecf-1fee8c3efc06"
      },
      "source": [
        "df_comp.plot.bar(figsize=(16, 8))\n",
        "plt.ylim(0,10)\n",
        "plt.xlim(9,20)"
      ],
      "execution_count": 58,
      "outputs": [
        {
          "output_type": "execute_result",
          "data": {
            "text/plain": [
              "(9, 20)"
            ]
          },
          "metadata": {
            "tags": []
          },
          "execution_count": 58
        },
        {
          "output_type": "display_data",
          "data": {
            "image/png": "[encoded data removed]",
            "text/plain": [
              "<Figure size 1152x576 with 1 Axes>"
            ]
          },
          "metadata": {
            "tags": []
          }
        }
      ]
    },
    {
      "cell_type": "markdown",
      "metadata": {
        "id": "SWMVHUdcxoXx",
        "colab_type": "text"
      },
      "source": [
        "# **Conclusion**\n",
        "\n",
        "We have made use of 5 different algorithms which differ in complexity:\n",
        "\n",
        "\n",
        "\n",
        "*   lag (to form a baseline)\n",
        "*   linear regression\n",
        "*   ridge regression\n",
        "*   gradient boosting trees\n",
        "*   Lasso\n",
        "\n",
        "We can see that this is a good starting point to predict prices, however, it's not even close to being reliable. Let alone put trust in these models.\n",
        "\n",
        "\n",
        "\n",
        "\n",
        "\n",
        "\n"
      ]
    }
  ]
}